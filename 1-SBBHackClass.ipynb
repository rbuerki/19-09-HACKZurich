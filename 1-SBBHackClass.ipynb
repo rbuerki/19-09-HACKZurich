{
 "cells": [
  {
   "cell_type": "markdown",
   "metadata": {},
   "source": [
    "# SBB Hack Class - Backend for Retrieving Price Offers of SBB Trips\n",
    "\n",
    "HackZurich 2019\n",
    "\n",
    "This notebook was used for testing and initial assembling of the backend. The final version is stored in a separate py-file.\n",
    "Main learnings: working with GET and POST requests to retrieve different data from the SBB App. The ouptut was then sent to the Frontend by FLASK.\n",
    "\n",
    "Suggested improvements:\n",
    "- better JSON parsing (see z_test.ipynb)\n",
    "- error handling (try-except) for debugging\n",
    "- too many variables stored in class object (input REB)\n",
    "\n",
    "API\n",
    "- [Docu](https://b2p.app.sbb.ch/docs/index.html)\n",
    "- [Swagger](https://b2p.app.sbb.ch/swagger-ui.html#/)\n",
    "- [Example App](https://booking.app.trasier.com/app/)\n",
    "\n",
    "\n",
    "Super helpful site: [Translate CURL commands](https://curl.trillworks.com/#python)"
   ]
  },
  {
   "cell_type": "markdown",
   "metadata": {
    "toc": true
   },
   "source": [
    "<h1>Table of Contents<span class=\"tocSkip\"></span></h1>\n",
    "<div class=\"toc\"><ul class=\"toc-item\"><li><span><a href=\"#Create-Base-Class-With-all-The-Functions\" data-toc-modified-id=\"Create-Base-Class-With-all-The-Functions-1\"><span class=\"toc-item-num\">1&nbsp;&nbsp;</span>Create Base Class With all The Functions</a></span><ul class=\"toc-item\"><li><span><a href=\"#Test-no-offer-available\" data-toc-modified-id=\"Test-no-offer-available-1.1\"><span class=\"toc-item-num\">1.1&nbsp;&nbsp;</span>Test no offer available</a></span></li></ul></li></ul></div>"
   ]
  },
  {
   "cell_type": "code",
   "execution_count": 1,
   "metadata": {
    "ExecuteTime": {
     "end_time": "2019-09-29T06:57:35.517945Z",
     "start_time": "2019-09-29T06:57:34.651784Z"
    }
   },
   "outputs": [],
   "source": [
    "from datetime import datetime, timedelta\n",
    "import requests\n",
    "import json\n",
    "import dateparser"
   ]
  },
  {
   "cell_type": "code",
   "execution_count": 2,
   "metadata": {
    "ExecuteTime": {
     "end_time": "2019-09-29T06:57:35.668278Z",
     "start_time": "2019-09-29T06:57:35.524186Z"
    }
   },
   "outputs": [],
   "source": [
    "\"\"\"Get the access token and set headers\"\"\"\n",
    "\n",
    "data = {'grant_type': 'client_credentials',\n",
    "        'client_id': 'xxx',\n",
    "        'client_secret': 'xxx'}\n",
    "\n",
    "response = requests.post('https://sso-int.sbb.ch/auth/realms/SBB_Public/protocol/openid-connect/token', data=data)\n",
    "\n",
    "# Parse Token\n",
    "response_dict = json.loads(response.text)\n",
    "access_token = response_dict['access_token']\n",
    "\n",
    "# Set headers\n",
    "headers = {\n",
    "    'Accept': '*/*',\n",
    "    'Accept-Language': 'de',\n",
    "    'X-Contract-Id': 'HAC222P',\n",
    "    'X-Conversation-Id': 'cafebabe-0815-4711-1234-ffffdeadbeef',\n",
    "    'Authorization': 'Bearer ' + access_token,\n",
    "}"
   ]
  },
  {
   "cell_type": "markdown",
   "metadata": {},
   "source": [
    "## Create Base Class With all The Functions"
   ]
  },
  {
   "cell_type": "code",
   "execution_count": 3,
   "metadata": {
    "ExecuteTime": {
     "end_time": "2019-09-29T06:57:35.681276Z",
     "start_time": "2019-09-29T06:57:35.674304Z"
    }
   },
   "outputs": [],
   "source": [
    "travel_date = '2019-10-27'\n",
    "travel_time = '10:00'\n",
    "travel_dest_name = 'Montreux'\n",
    "travel_orig_name = 'Zurich'"
   ]
  },
  {
   "cell_type": "code",
   "execution_count": 4,
   "metadata": {
    "ExecuteTime": {
     "end_time": "2019-09-29T06:57:35.730270Z",
     "start_time": "2019-09-29T06:57:35.685277Z"
    }
   },
   "outputs": [],
   "source": [
    "class SurpriseRequest:\n",
    "    \"\"\" Class for a surprise trip request.\"\"\"\n",
    "    \n",
    "    def __init__(self, \n",
    "                 trainType='IR;ICE/TGV/RJ,EC/IC',\n",
    "                 arrivalDeparture='ED',\n",
    "                 ipExtensionTicket='false',\n",
    "                 passengers='paxa;42;half-fare'):\n",
    "        \"\"\" Initialize Surprise Request instance.\"\"\"\n",
    "\n",
    "        self._trainType = trainType\n",
    "        self._arrivalDeparture = arrivalDeparture\n",
    "        self._ipExtensionTicket=ipExtensionTicket\n",
    "        self._passengers=passengers\n",
    "        \n",
    "    \n",
    "#     def __repr__(self):\n",
    "#         \"\"\"Function to output the characteristics of the instance.\"\"\"\n",
    "#         try:\n",
    "#             date = str('date ' + self._travel_date)\n",
    "#             time = str('time ' + self._travel_time)\n",
    "#             orig = str('origin ' + self._travel_orig_name)\n",
    "\n",
    "#             return str(date + \" / \" + time + \" / \" + orig)\n",
    "    \n",
    "\n",
    "    def go_for_offer(self, \n",
    "                     travel_date=travel_date, \n",
    "                     travel_time=travel_time,\n",
    "                     travel_dest_name = travel_dest_name,\n",
    "                     travel_orig_name = travel_orig_name):\n",
    "        \"\"\"Chain many functions to try if you can return an offer price.\"\"\"\n",
    "        \n",
    "        self._travel_date = travel_date\n",
    "        self._travel_time = travel_time\n",
    "        self._travel_dest_name = travel_dest_name \n",
    "        self._travel_orig_name = travel_orig_name\n",
    "        \n",
    "        self.get_location_ids()\n",
    "        self.get_start_trip_id()\n",
    "        self.get_return_trip_id()\n",
    "        self.get_offers()\n",
    "        return self.return_offer_price()        \n",
    "        \n",
    "    \n",
    "    \n",
    "    def get_location_ids(self):\n",
    "        \"\"\"Get the location ids from the name inputs.\"\"\"\n",
    "\n",
    "        loc_id_list = []\n",
    "        for location in [self._travel_dest_name, self._travel_orig_name]:\n",
    "            loc_params = (\n",
    "                ('name', location),\n",
    "            )\n",
    "\n",
    "            loc_data = requests.get('https://b2p-int.api.sbb.ch/api/locations', \n",
    "                                    headers=headers, params=loc_params)\n",
    "            loc_data_list = json.loads(loc_data.text)\n",
    "            loc_id = loc_data_list[0]['id']\n",
    "            loc_id_list.append(loc_id)\n",
    "\n",
    "        self._travel_dest = loc_id_list[0]\n",
    "        self._travel_orig = loc_id_list[1]\n",
    "\n",
    "\n",
    "    def get_start_trip_id(self):\n",
    "        \"\"\"Get the initial journey Id.\"\"\"\n",
    "\n",
    "\n",
    "        start_trip_params = (\n",
    "            ('arrivalDeparture', self._arrivalDeparture),\n",
    "            ('date', self._travel_date),\n",
    "            ('destinationId', self._travel_dest),\n",
    "            ('originId', self._travel_orig),\n",
    "            ('time', self._travel_time),\n",
    "            ('trainType', self._trainType),\n",
    "        )\n",
    "\n",
    "        start_trip = requests.get('https://b2p-int.api.sbb.ch/api/trips', \n",
    "                                  headers=headers, params=start_trip_params)\n",
    "        start_trip_as_list = json.loads(start_trip.text)\n",
    "\n",
    "        self._start_trip_id = start_trip_as_list[0]['tripId']\n",
    "\n",
    "\n",
    "    def get_return_trip_id(self, delta_hours=5):\n",
    "        \"\"\"Get the initial journey Id.\"\"\"\n",
    "        self._deta_hours = delta_hours\n",
    "\n",
    "        datetime_travel = dateparser.parse(travel_date + ',' + travel_time)\n",
    "        datetime_return = datetime_travel + timedelta(hours=delta_hours)\n",
    "        return_time = str(datetime_return.time())[:-3]\n",
    "\n",
    "        return_trip_params = (\n",
    "            ('arrivalDeparture', self._arrivalDeparture),\n",
    "            ('date', self._travel_date),\n",
    "            ('destinationId', self._travel_orig),\n",
    "            ('originId', self._travel_dest),\n",
    "            ('time', return_time),\n",
    "            ('trainType', self._trainType),\n",
    "        )\n",
    "\n",
    "        return_trip = requests.get('https://b2p-int.api.sbb.ch/api/trips', \n",
    "                                   headers=headers, params=return_trip_params)\n",
    "        return_trip_as_list = json.loads(return_trip.text)\n",
    "        \n",
    "        self._return_trip_id = return_trip_as_list[0]['tripId']\n",
    "                 \n",
    "                 \n",
    "    def get_offers(self):\n",
    "        \"\"\"Get price offer for full itinerary.\"\"\"\n",
    "        \n",
    "        offer_params = (\n",
    "            ('ipExtensionTicket', self._ipExtensionTicket),\n",
    "            ('passengers', self._passengers),\n",
    "            ('returnTripId', self._return_trip_id),  \n",
    "            ('tripId', self._start_trip_id),\n",
    "        )\n",
    "                 \n",
    "        offer = requests.get('https://b2p-int.api.sbb.ch/api/trip-offers', \n",
    "                              headers=headers, params=offer_params)\n",
    "        self._offer_as_list = json.loads(offer.text) \n",
    "        \n",
    "        product_id_list = []\n",
    "        for offer in self._offer_as_list:\n",
    "            offer_id = offer['offers'][0]['productId']\n",
    "            product_id_list.append(offer_id)\n",
    "            \n",
    "        product_id_set = set(product_id_list)\n",
    "        \n",
    "        if 4004 in product_id_set:\n",
    "            for offer in self._offer_as_list:\n",
    "                if offer['offers'][0]['productId'] == 4004:\n",
    "                    self._offer_price = offer['offers'][0]['price'] *2\n",
    "                    break            \n",
    "\n",
    "            for offer in self._offer_as_list:\n",
    "                if offer['offers'][0]['productId'] == 125:\n",
    "                    self._full_price = offer['offers'][0]['price'] *2\n",
    "                    break\n",
    "        else:\n",
    "            self._offer_price = \"no supersaver\"\n",
    "        \n",
    "        print(self._offer_price)\n",
    "        \n",
    "    def return_offer_price(self):\n",
    "        \"\"\"Return an offer price if both trips have Supersaver Price.\"\"\"\n",
    "        \n",
    "        if isinstance(self._offer_price, str):\n",
    "            print(True)\n",
    "            \n",
    "            return {'offer_price': None,\n",
    "                    'rebate': None,\n",
    "                    'rebate_pct': None}\n",
    "        \n",
    "        else:\n",
    "            self._rebate = self._full_price - self._offer_price\n",
    "            self._rebate_ptc = round(self._rebate / self._full_price, 2)\n",
    "            \n",
    "            return {'offer_price': self._offer_price,\n",
    "                    'rebate': self._rebate,\n",
    "                    'rebate_pct': self._rebate_ptc}"
   ]
  },
  {
   "cell_type": "code",
   "execution_count": 5,
   "metadata": {
    "ExecuteTime": {
     "end_time": "2019-09-29T06:57:35.738342Z",
     "start_time": "2019-09-29T06:57:35.733273Z"
    }
   },
   "outputs": [],
   "source": [
    "request1=SurpriseRequest()\n",
    "\n",
    "# Check\n",
    "# request1"
   ]
  },
  {
   "cell_type": "code",
   "execution_count": 6,
   "metadata": {
    "ExecuteTime": {
     "end_time": "2019-09-29T06:57:39.690646Z",
     "start_time": "2019-09-29T06:57:35.741351Z"
    }
   },
   "outputs": [
    {
     "name": "stdout",
     "output_type": "stream",
     "text": [
      "4000\n"
     ]
    }
   ],
   "source": [
    "results = request1.go_for_offer()"
   ]
  },
  {
   "cell_type": "code",
   "execution_count": 7,
   "metadata": {
    "ExecuteTime": {
     "end_time": "2019-09-29T06:57:39.755638Z",
     "start_time": "2019-09-29T06:57:39.701635Z"
    }
   },
   "outputs": [
    {
     "data": {
      "text/plain": [
       "{'offer_price': 4000, 'rebate': 10000, 'rebate_pct': 0.71}"
      ]
     },
     "execution_count": 7,
     "metadata": {},
     "output_type": "execute_result"
    }
   ],
   "source": [
    "results"
   ]
  },
  {
   "cell_type": "markdown",
   "metadata": {},
   "source": [
    "### Test no offer available\n",
    "\n",
    "Set actual time als startdate to be sure there is no supersaver ticket available."
   ]
  },
  {
   "cell_type": "code",
   "execution_count": 8,
   "metadata": {
    "ExecuteTime": {
     "end_time": "2019-09-29T06:57:39.783630Z",
     "start_time": "2019-09-29T06:57:39.768633Z"
    }
   },
   "outputs": [],
   "source": [
    "now = datetime.now()\n",
    "travel_date = str(now.date())\n",
    "travel_time = str(now.time())[:5]"
   ]
  },
  {
   "cell_type": "code",
   "execution_count": 9,
   "metadata": {
    "ExecuteTime": {
     "end_time": "2019-09-29T06:57:44.390626Z",
     "start_time": "2019-09-29T06:57:39.790631Z"
    }
   },
   "outputs": [
    {
     "name": "stdout",
     "output_type": "stream",
     "text": [
      "no supersaver\n",
      "True\n"
     ]
    },
    {
     "data": {
      "text/plain": [
       "{'offer_price': None, 'rebate': None, 'rebate_pct': None}"
      ]
     },
     "execution_count": 9,
     "metadata": {},
     "output_type": "execute_result"
    }
   ],
   "source": [
    "request1.go_for_offer(travel_date=travel_date, travel_time=travel_time)"
   ]
  },
  {
   "cell_type": "markdown",
   "metadata": {},
   "source": [
    "---"
   ]
  }
 ],
 "metadata": {
  "hide_input": false,
  "kernelspec": {
   "display_name": "Python 3",
   "language": "python",
   "name": "python3"
  },
  "language_info": {
   "codemirror_mode": {
    "name": "ipython",
    "version": 3
   },
   "file_extension": ".py",
   "mimetype": "text/x-python",
   "name": "python",
   "nbconvert_exporter": "python",
   "pygments_lexer": "ipython3",
   "version": "3.7.4"
  },
  "toc": {
   "base_numbering": 1,
   "nav_menu": {},
   "number_sections": true,
   "sideBar": false,
   "skip_h1_title": true,
   "title_cell": "Table of Contents",
   "title_sidebar": "Contents",
   "toc_cell": true,
   "toc_position": {},
   "toc_section_display": true,
   "toc_window_display": false
  }
 },
 "nbformat": 4,
 "nbformat_minor": 2
}
