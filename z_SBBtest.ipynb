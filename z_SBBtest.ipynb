{
 "cells": [
  {
   "cell_type": "markdown",
   "metadata": {
    "toc": true
   },
   "source": [
    "<h1>Table of Contents<span class=\"tocSkip\"></span></h1>\n",
    "<div class=\"toc\"><ul class=\"toc-item\"><li><span><a href=\"#Get-the-access-token\" data-toc-modified-id=\"Get-the-access-token-1\"><span class=\"toc-item-num\">1&nbsp;&nbsp;</span>Get the access token</a></span></li><li><span><a href=\"#Get-trip\" data-toc-modified-id=\"Get-trip-2\"><span class=\"toc-item-num\">2&nbsp;&nbsp;</span>Get trip</a></span></li><li><span><a href=\"#Get-Return-Trip\" data-toc-modified-id=\"Get-Return-Trip-3\"><span class=\"toc-item-num\">3&nbsp;&nbsp;</span>Get Return Trip</a></span></li><li><span><a href=\"#Get-Offers\" data-toc-modified-id=\"Get-Offers-4\"><span class=\"toc-item-num\">4&nbsp;&nbsp;</span>Get Offers</a></span></li><li><span><a href=\"#Get-Prices\" data-toc-modified-id=\"Get-Prices-5\"><span class=\"toc-item-num\">5&nbsp;&nbsp;</span>Get Prices</a></span></li></ul></div>"
   ]
  },
  {
   "cell_type": "code",
   "execution_count": 1,
   "metadata": {
    "ExecuteTime": {
     "end_time": "2019-09-28T13:41:10.569176Z",
     "start_time": "2019-09-28T13:41:10.099580Z"
    }
   },
   "outputs": [],
   "source": [
    "from datetime import datetime, timedelta\n",
    "import requests\n",
    "import json\n",
    "import dateparser"
   ]
  },
  {
   "cell_type": "markdown",
   "metadata": {},
   "source": [
    "### Get the access token"
   ]
  },
  {
   "cell_type": "code",
   "execution_count": 2,
   "metadata": {
    "ExecuteTime": {
     "end_time": "2019-09-28T13:41:10.710996Z",
     "start_time": "2019-09-28T13:41:10.571177Z"
    }
   },
   "outputs": [],
   "source": [
    "# Get response object with token\n",
    "data = {'grant_type': 'client_credentials',\n",
    "        'client_id': '22ebc2be',\n",
    "        'client_secret': '2c820784f3e28837959abc43120989ca'}\n",
    "\n",
    "response = requests.post('https://sso-int.sbb.ch/auth/realms/SBB_Public/protocol/openid-connect/token', data=data)"
   ]
  },
  {
   "cell_type": "code",
   "execution_count": 3,
   "metadata": {
    "ExecuteTime": {
     "end_time": "2019-09-28T13:41:10.724356Z",
     "start_time": "2019-09-28T13:41:10.713352Z"
    }
   },
   "outputs": [
    {
     "name": "stdout",
     "output_type": "stream",
     "text": [
      "eyJhbGciOiJSUzI1NiIsInR5cCIgOiAiSldUIiwia2lkIiA6ICJRbTF3TnRvWnRsdU5Hd2dXcWVFdmFpbkR0VE1VMjktYkJKZmJuelBseGRRIn0.eyJqdGkiOiI3MWZmZjMzOC03ZTM2LTQ3N2UtYWE1NS1hNzU3MWJhMjI0N2IiLCJleHAiOjE1Njk2Nzk4NjksIm5iZiI6MCwiaWF0IjoxNTY5Njc4MDY5LCJpc3MiOiJodHRwczovL3Nzby1pbnQuc2JiLmNoL2F1dGgvcmVhbG1zL1NCQl9QdWJsaWMiLCJhdWQiOiIyMmViYzJiZSIsInN1YiI6IjRiODRlY2VlLWUwYzUtNDk1Yy04NjNiLTcyODMzYjgzMTU1NyIsInR5cCI6IkJlYXJlciIsImF6cCI6IjIyZWJjMmJlIiwiYXV0aF90aW1lIjowLCJzZXNzaW9uX3N0YXRlIjoiOTVhNTdlMTctYjBjMy00MTA5LTk0Y2YtOWM2OWJmNDhmZGFhIiwiYWNyIjoiMSIsImFsbG93ZWQtb3JpZ2lucyI6W10sInJlc291cmNlX2FjY2VzcyI6e30sImNsaWVudEhvc3QiOiIyMTcuMTkyLjEwMi4xNCIsImNsaWVudElkIjoiMjJlYmMyYmUiLCJwcmVmZXJyZWRfdXNlcm5hbWUiOiJzZXJ2aWNlLWFjY291bnQtMjJlYmMyYmUiLCJjbGllbnRBZGRyZXNzIjoiMjE3LjE5Mi4xMDIuMTQiLCJlbWFpbCI6InNlcnZpY2UtYWNjb3VudC0yMmViYzJiZUBwbGFjZWhvbGRlci5vcmcifQ.fZSODeqdBUzqx209ErCtsaMFkaPYBk7Jwlim_gaZcHX3W7Ezli4-OsfZ7PRpX8OMNa4HrbduXvpxSbDXCD6oIwGfCvU7w9IAUK15RPuXIKf99ZVvbGFbvT_IHNdeOTepewynl5Q7cb2OzdRdcWTNkQ2tUwZwvId-DHSs1UqR816BSflG1lHe74EXbmDvbM7iDdcKax8n1crG8cDZE93svP4444cE26rLTY-nwCXWYWUTF4v7g66O5fsBbntQf_Swfp3arGbFvjUQVB2R3bEJEP4Z1sLmoBYeC09GJ16CSClaMk9BnUypdnb1P6U8zd4UM3PI5XSdcSam369nqQB1Mg\n"
     ]
    }
   ],
   "source": [
    "# Parse Token\n",
    "response_dict = json.loads(response.text)\n",
    "access_token = response_dict['access_token']\n",
    "\n",
    "# Check result\n",
    "print(access_token)"
   ]
  },
  {
   "cell_type": "code",
   "execution_count": 4,
   "metadata": {
    "ExecuteTime": {
     "end_time": "2019-09-28T13:41:10.735354Z",
     "start_time": "2019-09-28T13:41:10.726352Z"
    }
   },
   "outputs": [],
   "source": [
    "# Set headers\n",
    "headers = {\n",
    "    'Accept': '*/*',\n",
    "    'Accept-Language': 'de',\n",
    "    'X-Contract-Id': 'HAC222P',\n",
    "    'X-Conversation-Id': 'cafebabe-0815-4711-1234-ffffdeadbeef',\n",
    "    'Authorization': 'Bearer ' + access_token,\n",
    "}"
   ]
  },
  {
   "cell_type": "markdown",
   "metadata": {},
   "source": [
    "### Get trip"
   ]
  },
  {
   "cell_type": "code",
   "execution_count": 5,
   "metadata": {
    "ExecuteTime": {
     "end_time": "2019-09-28T13:41:10.746352Z",
     "start_time": "2019-09-28T13:41:10.737353Z"
    }
   },
   "outputs": [],
   "source": [
    "# Get inputs\n",
    "travel_date = '2019-10-27'\n",
    "travel_time = '10:00'\n",
    "travel_dest_name = 'Bern'\n",
    "travel_orig_name = 'Zurich'"
   ]
  },
  {
   "cell_type": "code",
   "execution_count": 6,
   "metadata": {
    "ExecuteTime": {
     "end_time": "2019-09-28T13:41:10.757354Z",
     "start_time": "2019-09-28T13:41:10.749354Z"
    }
   },
   "outputs": [],
   "source": [
    "def get_location_ids(locations=[travel_dest_name, travel_orig_name]):\n",
    "    \n",
    "    loc_id_list = []\n",
    "    for location in locations:\n",
    "        loc_params = (\n",
    "            ('name', location),\n",
    "        )\n",
    "    \n",
    "        loc_data = requests.get('https://b2p-int.api.sbb.ch/api/locations', headers=headers, params=loc_params)\n",
    "        loc_data_list = json.loads(loc_data.text)\n",
    "        loc_id = loc_data_list[0]['id']\n",
    "        loc_id_list.append(loc_id)\n",
    "    \n",
    "    return loc_id_list[0], loc_id_list[1]"
   ]
  },
  {
   "cell_type": "code",
   "execution_count": 7,
   "metadata": {
    "ExecuteTime": {
     "end_time": "2019-09-28T13:41:11.247491Z",
     "start_time": "2019-09-28T13:41:10.761354Z"
    }
   },
   "outputs": [],
   "source": [
    "travel_dest, travel_orig = get_location_ids()"
   ]
  },
  {
   "cell_type": "code",
   "execution_count": 8,
   "metadata": {
    "ExecuteTime": {
     "end_time": "2019-09-28T13:41:11.586401Z",
     "start_time": "2019-09-28T13:41:11.253491Z"
    }
   },
   "outputs": [],
   "source": [
    "# Set params\n",
    "\n",
    "\n",
    "params = (\n",
    "    ('arrivalDeparture', 'ED'),\n",
    "    ('date', travel_date),\n",
    "    ('destinationId', travel_dest),\n",
    "    ('originId', travel_orig),\n",
    "    ('time', travel_time),\n",
    "    ('trainType', 'IR;ICE/TGV/RJ,EC/IC'),\n",
    "    ('utoken', access_token),\n",
    ")\n",
    "\n",
    "trip = requests.get('https://b2p-int.api.sbb.ch/api/trips', headers=headers, params=params)"
   ]
  },
  {
   "cell_type": "code",
   "execution_count": 9,
   "metadata": {
    "ExecuteTime": {
     "end_time": "2019-09-28T13:41:11.596294Z",
     "start_time": "2019-09-28T13:41:11.588256Z"
    }
   },
   "outputs": [
    {
     "name": "stdout",
     "output_type": "stream",
     "text": [
      "key:  tripId val:  JUMyJUI2SEtJJUMyJUI2VCUyNEElM0QxJTQwTyUzRFolQzMlQkNyaWNoK0hCJTQwWCUzRDg1NDAxOTMlNDBZJTNENDczNzgxNjglNDBMJTNEODUwMzAwMCU0MGElM0QxMjglNDAlMjRBJTNEMSU0ME8lM0RCZXJuJTQwWCUzRDc0MzkxMjIlNDBZJTNENDY5NDg4MTYlNDBMJTNEODUwNzAwMCU0MGElM0QxMjglNDAlMjQyMDE5MTAyNzEwMDYlMjQyMDE5MTAyNzExMjYlMjRJUisxNisrKyUyNCUyNDElMjQlQzIlQjZLQyVDMiVCNiUyNTIzVkUlMjUyMzAlMjUyM0NGJTI1MjMxMDAlMjUyM0NBJTI1MjMwJTI1MjNDTSUyNTIzMCUyNTIzU0lDVCUyNTIzMSUyNTIzJUMyJUI2S0NDJUMyJUI2JTI1MjNWRSUyNTIzMCUyNTIzRVJHJTI1MjM4MTkzJTI1MjNISU4lMjUyMzAlMjUyM0VDSyUyNTIzNDY3MTY4JTI1N0M0NjcxNjYlMjU3QzQ2NzI0NiUyNTdDNDY3MjQ2JTI1N0MwJTI1N0MwJTI1N0MxNjUlMjU3QzQ2NzE2MCUyNTdDMSUyNTdDLTIxNDc0Nzk1NTAlMjU3QzAlMjUyMw==\n",
      "key:  scrollBackContext val:  eyJzY3JvbGxCYWNrQ29udGV4dCI6IjJ8T0J8TVTCtTExwrU0NjcxNjjCtTQ2NzE2NsK1NDY3MjQ2wrU0NjcyNDbCtTDCtTDCtTE2NcK1NDY3MTYwwrUxwrUtMjE0NzQ3OTU1MMK1MMK1McK1MnxQREjCtTQyZmRiODNjYjc2MzVmOTkxMDBkNjA1ZTJlMjVjZTI5fFJEwrUyNzEwMjAxOXxSVMK1MTAwMDAwfFVTwrUwIiwidHJhaW5UeXBlcyI6IklSO0lDRS9UR1YvUkosRUMvSUMifQ==\n",
      "key:  scrollForwardContext val:  eyJzY3JvbGxGb3J3YXJkQ29udGV4dCI6IjJ8T0Z8TVTCtTExwrU0NjcyMjjCtTQ2NzIyOMK1NDY3MzA2wrU0NjczMDbCtTDCtTDCtTE2NcK1NDY3MjE0wrU1wrUtMjE0NzQ4MzYzMMK1MMK1McK1MnxQREjCtTQyZmRiODNjYjc2MzVmOTkxMDBkNjA1ZTJlMjVjZTI5fFJEwrUyNzEwMjAxOXxSVMK1MTAwMDAwfFVTwrUwIiwidHJhaW5UeXBlcyI6IklSO0lDRS9UR1YvUkosRUMvSUMifQ==\n",
      "key:  segments val:  [{'type': 'PUBLIC_JOURNEY', 'stops': [{'id2': {'value': '8503000', 'type': 'UIC', 'externalId': None}, 'name': 'Zürich HB', 'date': '2019-10-27', 'time': '10:06', 'departureDateTime': '2019-10-27T10:06:00+01:00', 'track': '17', 'departureTrack': '17', 'tariffBorder': False, 'borderPointCH': False, 'id': 8503000}, {'id2': {'value': '8503504', 'type': 'UIC', 'externalId': None}, 'name': 'Baden', 'date': '2019-10-27', 'time': '10:21', 'departureDateTime': '2019-10-27T10:22:00+01:00', 'arrivalDateTime': '2019-10-27T10:21:00+01:00', 'tariffBorder': False, 'borderPointCH': False, 'id': 8503504}, {'id2': {'value': '8500309', 'type': 'UIC', 'externalId': None}, 'name': 'Brugg AG', 'date': '2019-10-27', 'time': '10:30', 'departureDateTime': '2019-10-27T10:32:00+01:00', 'arrivalDateTime': '2019-10-27T10:30:00+01:00', 'tariffBorder': False, 'borderPointCH': False, 'id': 8500309}, {'id2': {'value': '8502113', 'type': 'UIC', 'externalId': None}, 'name': 'Aarau', 'date': '2019-10-27', 'time': '10:44', 'departureDateTime': '2019-10-27T10:46:00+01:00', 'arrivalDateTime': '2019-10-27T10:44:00+01:00', 'track': '5', 'departureTrack': '5', 'arrivalTrack': '5', 'tariffBorder': False, 'borderPointCH': False, 'id': 8502113}, {'id2': {'value': '8500218', 'type': 'UIC', 'externalId': None}, 'name': 'Olten', 'date': '2019-10-27', 'time': '10:57', 'departureDateTime': '2019-10-27T10:59:00+01:00', 'arrivalDateTime': '2019-10-27T10:57:00+01:00', 'track': '8', 'departureTrack': '8', 'arrivalTrack': '8', 'tariffBorder': False, 'borderPointCH': False, 'id': 8500218}, {'id2': {'value': '8507000', 'type': 'UIC', 'externalId': None}, 'name': 'Bern', 'date': '2019-10-27', 'time': '11:26', 'arrivalDateTime': '2019-10-27T11:26:00+01:00', 'track': '8', 'arrivalTrack': '8', 'tariffBorder': False, 'borderPointCH': False, 'id': 8507000}], 'trainNumber': '2166', 'trainId': '16', 'trainType': 'IR', 'transportType': 'TRAIN', 'transportProduct': {'name': 'IR 16', 'categoryShortForm': 'IR', 'categoryLongForm': 'InterRegio', 'line': '16', 'number': '2166', 'vehicleType': 'TRAIN', 'catgegoryShortForm': 'IR', 'catgegoryLongForm': 'InterRegio'}, 'segmentInformation': [], 'attributes': [], 'origin': {'id2': {'value': '8503000', 'type': 'UIC', 'externalId': None}, 'name': 'Zürich HB', 'date': '2019-10-27', 'time': '10:06', 'departureDateTime': '2019-10-27T10:06:00+01:00', 'track': '17', 'departureTrack': '17', 'tariffBorder': False, 'borderPointCH': False, 'id': 8503000}, 'destination': {'id2': {'value': '8507000', 'type': 'UIC', 'externalId': None}, 'name': 'Bern', 'date': '2019-10-27', 'time': '11:26', 'arrivalDateTime': '2019-10-27T11:26:00+01:00', 'track': '8', 'arrivalTrack': '8', 'tariffBorder': False, 'borderPointCH': False, 'id': 8507000}}]\n",
      "key:  links val:  [{'rel': 'prices', 'version': None, 'href': 'https://b2p-int.api.sbb.ch/api/v2/prices?tripIds=JUMyJUI2SEtJJUMyJUI2VCUyNEElM0QxJTQwTyUzRFolQzMlQkNyaWNoK0hCJTQwWCUzRDg1NDAxOTMlNDBZJTNENDczNzgxNjglNDBMJTNEODUwMzAwMCU0MGElM0QxMjglNDAlMjRBJTNEMSU0ME8lM0RCZXJuJTQwWCUzRDc0MzkxMjIlNDBZJTNENDY5NDg4MTYlNDBMJTNEODUwNzAwMCU0MGElM0QxMjglNDAlMjQyMDE5MTAyNzEwMDYlMjQyMDE5MTAyNzExMjYlMjRJUisxNisrKyUyNCUyNDElMjQlQzIlQjZLQyVDMiVCNiUyNTIzVkUlMjUyMzAlMjUyM0NGJTI1MjMxMDAlMjUyM0NBJTI1MjMwJTI1MjNDTSUyNTIzMCUyNTIzU0lDVCUyNTIzMSUyNTIzJUMyJUI2S0NDJUMyJUI2JTI1MjNWRSUyNTIzMCUyNTIzRVJHJTI1MjM4MTkzJTI1MjNISU4lMjUyMzAlMjUyM0VDSyUyNTIzNDY3MTY4JTI1N0M0NjcxNjYlMjU3QzQ2NzI0NiUyNTdDNDY3MjQ2JTI1N0MwJTI1N0MwJTI1N0MxNjUlMjU3QzQ2NzE2MCUyNTdDMSUyNTdDLTIxNDc0Nzk1NTAlMjU3QzAlMjUyMw==&passengers=${passengerInfos}', 'method': 'GET', 'contentTypes': ['application/json']}, {'rel': 'trip-offers', 'version': None, 'href': 'https://b2p-int.api.sbb.ch/api/trip-offers?tripId=JUMyJUI2SEtJJUMyJUI2VCUyNEElM0QxJTQwTyUzRFolQzMlQkNyaWNoK0hCJTQwWCUzRDg1NDAxOTMlNDBZJTNENDczNzgxNjglNDBMJTNEODUwMzAwMCU0MGElM0QxMjglNDAlMjRBJTNEMSU0ME8lM0RCZXJuJTQwWCUzRDc0MzkxMjIlNDBZJTNENDY5NDg4MTYlNDBMJTNEODUwNzAwMCU0MGElM0QxMjglNDAlMjQyMDE5MTAyNzEwMDYlMjQyMDE5MTAyNzExMjYlMjRJUisxNisrKyUyNCUyNDElMjQlQzIlQjZLQyVDMiVCNiUyNTIzVkUlMjUyMzAlMjUyM0NGJTI1MjMxMDAlMjUyM0NBJTI1MjMwJTI1MjNDTSUyNTIzMCUyNTIzU0lDVCUyNTIzMSUyNTIzJUMyJUI2S0NDJUMyJUI2JTI1MjNWRSUyNTIzMCUyNTIzRVJHJTI1MjM4MTkzJTI1MjNISU4lMjUyMzAlMjUyM0VDSyUyNTIzNDY3MTY4JTI1N0M0NjcxNjYlMjU3QzQ2NzI0NiUyNTdDNDY3MjQ2JTI1N0MwJTI1N0MwJTI1N0MxNjUlMjU3QzQ2NzE2MCUyNTdDMSUyNTdDLTIxNDc0Nzk1NTAlMjU3QzAlMjUyMw==&passengers=${passengerInfos}', 'method': 'GET', 'contentTypes': ['application/json']}, {'rel': 'online-offers', 'version': None, 'href': 'https://www.sbb.ch/de/kaufen/pages/fahrplan/fahrplan.xhtml?recon=JUMyJUI2SEtJJUMyJUI2VCUyNEElM0QxJTQwTyUzRFolQzMlQkNyaWNoK0hCJTQwWCUzRDg1NDAxOTMlNDBZJTNENDczNzgxNjglNDBMJTNEODUwMzAwMCU0MGElM0QxMjglNDAlMjRBJTNEMSU0ME8lM0RCZXJuJTQwWCUzRDc0MzkxMjIlNDBZJTNENDY5NDg4MTYlNDBMJTNEODUwNzAwMCU0MGElM0QxMjglNDAlMjQyMDE5MTAyNzEwMDYlMjQyMDE5MTAyNzExMjYlMjRJUisxNisrKyUyNCUyNDElMjQlQzIlQjZLQyVDMiVCNiUyNTIzVkUlMjUyMzAlMjUyM0NGJTI1MjMxMDAlMjUyM0NBJTI1MjMwJTI1MjNDTSUyNTIzMCUyNTIzU0lDVCUyNTIzMSUyNTIzJUMyJUI2S0NDJUMyJUI2JTI1MjNWRSUyNTIzMCUyNTIzRVJHJTI1MjM4MTkzJTI1MjNISU4lMjUyMzAlMjUyM0VDSyUyNTIzNDY3MTY4JTI1N0M0NjcxNjYlMjU3QzQ2NzI0NiUyNTdDNDY3MjQ2JTI1N0MwJTI1N0MwJTI1N0MxNjUlMjU3QzQ2NzE2MCUyNTdDMSUyNTdDLTIxNDc0Nzk1NTAlMjU3QzAlMjUyMw==&datum=2019-10-27&zeit=1006', 'method': 'GET', 'contentTypes': ['text/html']}, {'rel': 'mobile-offers', 'version': None, 'href': 'https://app.sbbmobile.ch/tripoffer?appid=bookingAPI&recon=JUMyJUI2SEtJJUMyJUI2VCUyNEElM0QxJTQwTyUzRFolQzMlQkNyaWNoK0hCJTQwWCUzRDg1NDAxOTMlNDBZJTNENDczNzgxNjglNDBMJTNEODUwMzAwMCU0MGElM0QxMjglNDAlMjRBJTNEMSU0ME8lM0RCZXJuJTQwWCUzRDc0MzkxMjIlNDBZJTNENDY5NDg4MTYlNDBMJTNEODUwNzAwMCU0MGElM0QxMjglNDAlMjQyMDE5MTAyNzEwMDYlMjQyMDE5MTAyNzExMjYlMjRJUisxNisrKyUyNCUyNDElMjQlQzIlQjZLQyVDMiVCNiUyNTIzVkUlMjUyMzAlMjUyM0NGJTI1MjMxMDAlMjUyM0NBJTI1MjMwJTI1MjNDTSUyNTIzMCUyNTIzU0lDVCUyNTIzMSUyNTIzJUMyJUI2S0NDJUMyJUI2JTI1MjNWRSUyNTIzMCUyNTIzRVJHJTI1MjM4MTkzJTI1MjNISU4lMjUyMzAlMjUyM0VDSyUyNTIzNDY3MTY4JTI1N0M0NjcxNjYlMjU3QzQ2NzI0NiUyNTdDNDY3MjQ2JTI1N0MwJTI1N0MwJTI1N0MxNjUlMjU3QzQ2NzE2MCUyNTdDMSUyNTdDLTIxNDc0Nzk1NTAlMjU3QzAlMjUyMw==&date=2019-10-27', 'method': 'GET', 'contentTypes': ['text/html']}]\n"
     ]
    }
   ],
   "source": [
    "trip_list = json.loads(trip.text)\n",
    "\n",
    "for i in trip_list[0]:\n",
    "    print(\"key: \", i, \"val: \", trip_list[0][i])"
   ]
  },
  {
   "cell_type": "code",
   "execution_count": 10,
   "metadata": {
    "ExecuteTime": {
     "end_time": "2019-09-28T13:41:11.613224Z",
     "start_time": "2019-09-28T13:41:11.599817Z"
    }
   },
   "outputs": [
    {
     "name": "stdout",
     "output_type": "stream",
     "text": [
      "JUMyJUI2SEtJJUMyJUI2VCUyNEElM0QxJTQwTyUzRFolQzMlQkNyaWNoK0hCJTQwWCUzRDg1NDAxOTMlNDBZJTNENDczNzgxNjglNDBMJTNEODUwMzAwMCU0MGElM0QxMjglNDAlMjRBJTNEMSU0ME8lM0RCZXJuJTQwWCUzRDc0MzkxMjIlNDBZJTNENDY5NDg4MTYlNDBMJTNEODUwNzAwMCU0MGElM0QxMjglNDAlMjQyMDE5MTAyNzEwMDYlMjQyMDE5MTAyNzExMjYlMjRJUisxNisrKyUyNCUyNDElMjQlQzIlQjZLQyVDMiVCNiUyNTIzVkUlMjUyMzAlMjUyM0NGJTI1MjMxMDAlMjUyM0NBJTI1MjMwJTI1MjNDTSUyNTIzMCUyNTIzU0lDVCUyNTIzMSUyNTIzJUMyJUI2S0NDJUMyJUI2JTI1MjNWRSUyNTIzMCUyNTIzRVJHJTI1MjM4MTkzJTI1MjNISU4lMjUyMzAlMjUyM0VDSyUyNTIzNDY3MTY4JTI1N0M0NjcxNjYlMjU3QzQ2NzI0NiUyNTdDNDY3MjQ2JTI1N0MwJTI1N0MwJTI1N0MxNjUlMjU3QzQ2NzE2MCUyNTdDMSUyNTdDLTIxNDc0Nzk1NTAlMjU3QzAlMjUyMw==\n"
     ]
    }
   ],
   "source": [
    "trip_id = trip_list[0]['tripId']\n",
    "\n",
    "# Check results\n",
    "print(trip_id)"
   ]
  },
  {
   "cell_type": "markdown",
   "metadata": {},
   "source": [
    "### Get Return Trip"
   ]
  },
  {
   "cell_type": "code",
   "execution_count": 11,
   "metadata": {
    "ExecuteTime": {
     "end_time": "2019-09-28T13:41:11.825611Z",
     "start_time": "2019-09-28T13:41:11.616220Z"
    }
   },
   "outputs": [
    {
     "data": {
      "text/plain": [
       "'15:00'"
      ]
     },
     "execution_count": 11,
     "metadata": {},
     "output_type": "execute_result"
    }
   ],
   "source": [
    "delta_hours = 5\n",
    "\n",
    "datetime_travel = dateparser.parse(travel_date + ',' + travel_time)\n",
    "datetime_return = datetime_travel + timedelta(hours=delta_hours)\n",
    "return_time = str(datetime_return.time())[:-3]\n",
    "\n",
    "# Check results\n",
    "return_time"
   ]
  },
  {
   "cell_type": "code",
   "execution_count": 12,
   "metadata": {
    "ExecuteTime": {
     "end_time": "2019-09-28T13:41:12.197941Z",
     "start_time": "2019-09-28T13:41:11.829608Z"
    }
   },
   "outputs": [
    {
     "name": "stdout",
     "output_type": "stream",
     "text": [
      "JUMyJUI2SEtJJUMyJUI2VCUyNEElM0QxJTQwTyUzREJlcm4lNDBYJTNENzQzOTEyMiU0MFklM0Q0Njk0ODgxNiU0MEwlM0Q4NTA3MDAwJTQwYSUzRDEyOCU0MCUyNEElM0QxJTQwTyUzREFhcmF1JTQwWCUzRDgwNTEyNjAlNDBZJTNENDczOTEzNDYlNDBMJTNEODUwMjExMyU0MGElM0QxMjglNDAlMjQyMDE5MTAyNzE1MzQlMjQyMDE5MTAyNzE2MTMlMjRJUisxNisrKyUyNCUyNDElMjQlQzIlQTdUJTI0QSUzRDElNDBPJTNEQWFyYXUlNDBYJTNEODA1MTI2MCU0MFklM0Q0NzM5MTM0NiU0MEwlM0Q4NTAyMTEzJTQwYSUzRDEyOCU0MCUyNEElM0QxJTQwTyUzRFolQzMlQkNyaWNoK0hCJTQwWCUzRDg1NDAxOTMlNDBZJTNENDczNzgxNjglNDBMJTNEODUwMzAwMCU0MGElM0QxMjglNDAlMjQyMDE5MTAyNzE2MjMlMjQyMDE5MTAyNzE2NTIlMjRJUiszNysrKyUyNCUyNDElMjQlQzIlQjZLQyVDMiVCNiUyNTIzVkUlMjUyMzAlMjUyM0NGJTI1MjMxMDAlMjUyM0NBJTI1MjMwJTI1MjNDTSUyNTIzMCUyNTIzU0lDVCUyNTIzMSUyNTIzJUMyJUI2S0NDJUMyJUI2JTI1MjNWRSUyNTIzMCUyNTIzRVJHJTI1MjMyJTI1MjNISU4lMjUyMzAlMjUyM0VDSyUyNTIzNDY3NDk0JTI1N0M0Njc0OTQlMjU3QzQ2NzU3MiUyNTdDNDY3NTcyJTI1N0MwJTI1N0MwJTI1N0M2NTcwMSUyNTdDNDY3NDYwJTI1N0MxJTI1N0MtMjE0NzQ4MzYzMCUyNTdDMCUyNTIz\n"
     ]
    }
   ],
   "source": [
    "return_params = (\n",
    "    ('arrivalDeparture', 'ED'),\n",
    "    ('date', travel_date),\n",
    "    ('destinationId', travel_orig),\n",
    "    ('originId', travel_dest),\n",
    "    ('time', return_time),\n",
    "    ('trainType', 'IR;ICE/TGV/RJ,EC/IC'),\n",
    "    ('utoken', str(access_token)),\n",
    ")\n",
    "\n",
    "return_trip = requests.get('https://b2p-int.api.sbb.ch/api/trips', headers=headers, params=return_params)\n",
    "\n",
    "return_trip_list = json.loads(return_trip.text)\n",
    "return_trip_id = return_trip_list[0]['tripId']\n",
    "\n",
    "# Check results\n",
    "print(return_trip_id)"
   ]
  },
  {
   "cell_type": "code",
   "execution_count": 13,
   "metadata": {
    "ExecuteTime": {
     "end_time": "2019-09-28T13:41:12.214995Z",
     "start_time": "2019-09-28T13:41:12.205022Z"
    }
   },
   "outputs": [
    {
     "name": "stdout",
     "output_type": "stream",
     "text": [
      "key:  tripId val:  JUMyJUI2SEtJJUMyJUI2VCUyNEElM0QxJTQwTyUzREJlcm4lNDBYJTNENzQzOTEyMiU0MFklM0Q0Njk0ODgxNiU0MEwlM0Q4NTA3MDAwJTQwYSUzRDEyOCU0MCUyNEElM0QxJTQwTyUzREFhcmF1JTQwWCUzRDgwNTEyNjAlNDBZJTNENDczOTEzNDYlNDBMJTNEODUwMjExMyU0MGElM0QxMjglNDAlMjQyMDE5MTAyNzE1MzQlMjQyMDE5MTAyNzE2MTMlMjRJUisxNisrKyUyNCUyNDElMjQlQzIlQTdUJTI0QSUzRDElNDBPJTNEQWFyYXUlNDBYJTNEODA1MTI2MCU0MFklM0Q0NzM5MTM0NiU0MEwlM0Q4NTAyMTEzJTQwYSUzRDEyOCU0MCUyNEElM0QxJTQwTyUzRFolQzMlQkNyaWNoK0hCJTQwWCUzRDg1NDAxOTMlNDBZJTNENDczNzgxNjglNDBMJTNEODUwMzAwMCU0MGElM0QxMjglNDAlMjQyMDE5MTAyNzE2MjMlMjQyMDE5MTAyNzE2NTIlMjRJUiszNysrKyUyNCUyNDElMjQlQzIlQjZLQyVDMiVCNiUyNTIzVkUlMjUyMzAlMjUyM0NGJTI1MjMxMDAlMjUyM0NBJTI1MjMwJTI1MjNDTSUyNTIzMCUyNTIzU0lDVCUyNTIzMSUyNTIzJUMyJUI2S0NDJUMyJUI2JTI1MjNWRSUyNTIzMCUyNTIzRVJHJTI1MjMyJTI1MjNISU4lMjUyMzAlMjUyM0VDSyUyNTIzNDY3NDk0JTI1N0M0Njc0OTQlMjU3QzQ2NzU3MiUyNTdDNDY3NTcyJTI1N0MwJTI1N0MwJTI1N0M2NTcwMSUyNTdDNDY3NDYwJTI1N0MxJTI1N0MtMjE0NzQ4MzYzMCUyNTdDMCUyNTIz\n",
      "key:  scrollBackContext val:  eyJzY3JvbGxCYWNrQ29udGV4dCI6IjJ8T0J8TVTCtTExwrU0Njc0OTTCtTQ2NzQ5NMK1NDY3NTcywrU0Njc1NzLCtTDCtTDCtTY1NzAxwrU0Njc0NjDCtTHCtS0yMTQ3NDgzNjMwwrUwwrUxwrUyfFBESMK1NDJmZGI4M2NiNzYzNWY5OTEwMGQ2MDVlMmUyNWNlMjl8UkTCtTI3MTAyMDE5fFJUwrUxNTAwMDB8VVPCtTAiLCJ0cmFpblR5cGVzIjoiSVI7SUNFL1RHVi9SSixFQy9JQyJ9\n",
      "key:  scrollForwardContext val:  eyJzY3JvbGxGb3J3YXJkQ29udGV4dCI6IjJ8T0Z8TVTCtTExwrU0Njc1NTTCtTQ2NzU1NMK1NDY3NjMywrU0Njc2MzTCtTDCtTDCtTEzwrU0Njc0OTnCtTXCtS0yMTQ3NDc5NTUwwrUwwrUxwrUyfFBESMK1NDJmZGI4M2NiNzYzNWY5OTEwMGQ2MDVlMmUyNWNlMjl8UkTCtTI3MTAyMDE5fFJUwrUxNTAwMDB8VVPCtTAiLCJ0cmFpblR5cGVzIjoiSVI7SUNFL1RHVi9SSixFQy9JQyJ9\n",
      "key:  segments val:  [{'type': 'PUBLIC_JOURNEY', 'stops': [{'id2': {'value': '8507000', 'type': 'UIC', 'externalId': None}, 'name': 'Bern', 'date': '2019-10-27', 'time': '15:34', 'departureDateTime': '2019-10-27T15:34:00+01:00', 'track': '8', 'departureTrack': '8', 'tariffBorder': False, 'borderPointCH': False, 'id': 8507000}, {'id2': {'value': '8502113', 'type': 'UIC', 'externalId': None}, 'name': 'Aarau', 'date': '2019-10-27', 'time': '16:13', 'arrivalDateTime': '2019-10-27T16:13:00+01:00', 'track': '2', 'arrivalTrack': '2', 'tariffBorder': False, 'borderPointCH': False, 'id': 8502113}], 'trainNumber': '2179', 'trainId': '16', 'trainType': 'IR', 'transportType': 'TRAIN', 'transportProduct': {'name': 'IR 16', 'categoryShortForm': 'IR', 'categoryLongForm': 'InterRegio', 'line': '16', 'number': '2179', 'vehicleType': 'TRAIN', 'catgegoryShortForm': 'IR', 'catgegoryLongForm': 'InterRegio'}, 'segmentInformation': [], 'attributes': [], 'origin': {'id2': {'value': '8507000', 'type': 'UIC', 'externalId': None}, 'name': 'Bern', 'date': '2019-10-27', 'time': '15:34', 'departureDateTime': '2019-10-27T15:34:00+01:00', 'track': '8', 'departureTrack': '8', 'tariffBorder': False, 'borderPointCH': False, 'id': 8507000}, 'destination': {'id2': {'value': '8502113', 'type': 'UIC', 'externalId': None}, 'name': 'Aarau', 'date': '2019-10-27', 'time': '16:13', 'arrivalDateTime': '2019-10-27T16:13:00+01:00', 'track': '2', 'arrivalTrack': '2', 'tariffBorder': False, 'borderPointCH': False, 'id': 8502113}}, {'type': 'PUBLIC_JOURNEY', 'stops': [{'id2': {'value': '8502113', 'type': 'UIC', 'externalId': None}, 'name': 'Aarau', 'date': '2019-10-27', 'time': '16:23', 'departureDateTime': '2019-10-27T16:23:00+01:00', 'tariffBorder': False, 'borderPointCH': False, 'id': 8502113}, {'id2': {'value': '8503000', 'type': 'UIC', 'externalId': None}, 'name': 'Zürich HB', 'date': '2019-10-27', 'time': '16:52', 'arrivalDateTime': '2019-10-27T16:52:00+01:00', 'track': '11', 'arrivalTrack': '11', 'tariffBorder': False, 'borderPointCH': False, 'id': 8503000}], 'trainNumber': '2277', 'trainId': '37', 'trainType': 'IR', 'transportType': 'TRAIN', 'transportProduct': {'name': 'IR 37', 'categoryShortForm': 'IR', 'categoryLongForm': 'InterRegio', 'line': '37', 'number': '2277', 'vehicleType': 'TRAIN', 'catgegoryShortForm': 'IR', 'catgegoryLongForm': 'InterRegio'}, 'segmentInformation': [], 'attributes': [], 'origin': {'id2': {'value': '8502113', 'type': 'UIC', 'externalId': None}, 'name': 'Aarau', 'date': '2019-10-27', 'time': '16:23', 'departureDateTime': '2019-10-27T16:23:00+01:00', 'tariffBorder': False, 'borderPointCH': False, 'id': 8502113}, 'destination': {'id2': {'value': '8503000', 'type': 'UIC', 'externalId': None}, 'name': 'Zürich HB', 'date': '2019-10-27', 'time': '16:52', 'arrivalDateTime': '2019-10-27T16:52:00+01:00', 'track': '11', 'arrivalTrack': '11', 'tariffBorder': False, 'borderPointCH': False, 'id': 8503000}}]\n",
      "key:  links val:  [{'rel': 'prices', 'version': None, 'href': 'https://b2p-int.api.sbb.ch/api/v2/prices?tripIds=JUMyJUI2SEtJJUMyJUI2VCUyNEElM0QxJTQwTyUzREJlcm4lNDBYJTNENzQzOTEyMiU0MFklM0Q0Njk0ODgxNiU0MEwlM0Q4NTA3MDAwJTQwYSUzRDEyOCU0MCUyNEElM0QxJTQwTyUzREFhcmF1JTQwWCUzRDgwNTEyNjAlNDBZJTNENDczOTEzNDYlNDBMJTNEODUwMjExMyU0MGElM0QxMjglNDAlMjQyMDE5MTAyNzE1MzQlMjQyMDE5MTAyNzE2MTMlMjRJUisxNisrKyUyNCUyNDElMjQlQzIlQTdUJTI0QSUzRDElNDBPJTNEQWFyYXUlNDBYJTNEODA1MTI2MCU0MFklM0Q0NzM5MTM0NiU0MEwlM0Q4NTAyMTEzJTQwYSUzRDEyOCU0MCUyNEElM0QxJTQwTyUzRFolQzMlQkNyaWNoK0hCJTQwWCUzRDg1NDAxOTMlNDBZJTNENDczNzgxNjglNDBMJTNEODUwMzAwMCU0MGElM0QxMjglNDAlMjQyMDE5MTAyNzE2MjMlMjQyMDE5MTAyNzE2NTIlMjRJUiszNysrKyUyNCUyNDElMjQlQzIlQjZLQyVDMiVCNiUyNTIzVkUlMjUyMzAlMjUyM0NGJTI1MjMxMDAlMjUyM0NBJTI1MjMwJTI1MjNDTSUyNTIzMCUyNTIzU0lDVCUyNTIzMSUyNTIzJUMyJUI2S0NDJUMyJUI2JTI1MjNWRSUyNTIzMCUyNTIzRVJHJTI1MjMyJTI1MjNISU4lMjUyMzAlMjUyM0VDSyUyNTIzNDY3NDk0JTI1N0M0Njc0OTQlMjU3QzQ2NzU3MiUyNTdDNDY3NTcyJTI1N0MwJTI1N0MwJTI1N0M2NTcwMSUyNTdDNDY3NDYwJTI1N0MxJTI1N0MtMjE0NzQ4MzYzMCUyNTdDMCUyNTIz&passengers=${passengerInfos}', 'method': 'GET', 'contentTypes': ['application/json']}, {'rel': 'trip-offers', 'version': None, 'href': 'https://b2p-int.api.sbb.ch/api/trip-offers?tripId=JUMyJUI2SEtJJUMyJUI2VCUyNEElM0QxJTQwTyUzREJlcm4lNDBYJTNENzQzOTEyMiU0MFklM0Q0Njk0ODgxNiU0MEwlM0Q4NTA3MDAwJTQwYSUzRDEyOCU0MCUyNEElM0QxJTQwTyUzREFhcmF1JTQwWCUzRDgwNTEyNjAlNDBZJTNENDczOTEzNDYlNDBMJTNEODUwMjExMyU0MGElM0QxMjglNDAlMjQyMDE5MTAyNzE1MzQlMjQyMDE5MTAyNzE2MTMlMjRJUisxNisrKyUyNCUyNDElMjQlQzIlQTdUJTI0QSUzRDElNDBPJTNEQWFyYXUlNDBYJTNEODA1MTI2MCU0MFklM0Q0NzM5MTM0NiU0MEwlM0Q4NTAyMTEzJTQwYSUzRDEyOCU0MCUyNEElM0QxJTQwTyUzRFolQzMlQkNyaWNoK0hCJTQwWCUzRDg1NDAxOTMlNDBZJTNENDczNzgxNjglNDBMJTNEODUwMzAwMCU0MGElM0QxMjglNDAlMjQyMDE5MTAyNzE2MjMlMjQyMDE5MTAyNzE2NTIlMjRJUiszNysrKyUyNCUyNDElMjQlQzIlQjZLQyVDMiVCNiUyNTIzVkUlMjUyMzAlMjUyM0NGJTI1MjMxMDAlMjUyM0NBJTI1MjMwJTI1MjNDTSUyNTIzMCUyNTIzU0lDVCUyNTIzMSUyNTIzJUMyJUI2S0NDJUMyJUI2JTI1MjNWRSUyNTIzMCUyNTIzRVJHJTI1MjMyJTI1MjNISU4lMjUyMzAlMjUyM0VDSyUyNTIzNDY3NDk0JTI1N0M0Njc0OTQlMjU3QzQ2NzU3MiUyNTdDNDY3NTcyJTI1N0MwJTI1N0MwJTI1N0M2NTcwMSUyNTdDNDY3NDYwJTI1N0MxJTI1N0MtMjE0NzQ4MzYzMCUyNTdDMCUyNTIz&passengers=${passengerInfos}', 'method': 'GET', 'contentTypes': ['application/json']}, {'rel': 'online-offers', 'version': None, 'href': 'https://www.sbb.ch/de/kaufen/pages/fahrplan/fahrplan.xhtml?recon=JUMyJUI2SEtJJUMyJUI2VCUyNEElM0QxJTQwTyUzREJlcm4lNDBYJTNENzQzOTEyMiU0MFklM0Q0Njk0ODgxNiU0MEwlM0Q4NTA3MDAwJTQwYSUzRDEyOCU0MCUyNEElM0QxJTQwTyUzREFhcmF1JTQwWCUzRDgwNTEyNjAlNDBZJTNENDczOTEzNDYlNDBMJTNEODUwMjExMyU0MGElM0QxMjglNDAlMjQyMDE5MTAyNzE1MzQlMjQyMDE5MTAyNzE2MTMlMjRJUisxNisrKyUyNCUyNDElMjQlQzIlQTdUJTI0QSUzRDElNDBPJTNEQWFyYXUlNDBYJTNEODA1MTI2MCU0MFklM0Q0NzM5MTM0NiU0MEwlM0Q4NTAyMTEzJTQwYSUzRDEyOCU0MCUyNEElM0QxJTQwTyUzRFolQzMlQkNyaWNoK0hCJTQwWCUzRDg1NDAxOTMlNDBZJTNENDczNzgxNjglNDBMJTNEODUwMzAwMCU0MGElM0QxMjglNDAlMjQyMDE5MTAyNzE2MjMlMjQyMDE5MTAyNzE2NTIlMjRJUiszNysrKyUyNCUyNDElMjQlQzIlQjZLQyVDMiVCNiUyNTIzVkUlMjUyMzAlMjUyM0NGJTI1MjMxMDAlMjUyM0NBJTI1MjMwJTI1MjNDTSUyNTIzMCUyNTIzU0lDVCUyNTIzMSUyNTIzJUMyJUI2S0NDJUMyJUI2JTI1MjNWRSUyNTIzMCUyNTIzRVJHJTI1MjMyJTI1MjNISU4lMjUyMzAlMjUyM0VDSyUyNTIzNDY3NDk0JTI1N0M0Njc0OTQlMjU3QzQ2NzU3MiUyNTdDNDY3NTcyJTI1N0MwJTI1N0MwJTI1N0M2NTcwMSUyNTdDNDY3NDYwJTI1N0MxJTI1N0MtMjE0NzQ4MzYzMCUyNTdDMCUyNTIz&datum=2019-10-27&zeit=1534', 'method': 'GET', 'contentTypes': ['text/html']}, {'rel': 'mobile-offers', 'version': None, 'href': 'https://app.sbbmobile.ch/tripoffer?appid=bookingAPI&recon=JUMyJUI2SEtJJUMyJUI2VCUyNEElM0QxJTQwTyUzREJlcm4lNDBYJTNENzQzOTEyMiU0MFklM0Q0Njk0ODgxNiU0MEwlM0Q4NTA3MDAwJTQwYSUzRDEyOCU0MCUyNEElM0QxJTQwTyUzREFhcmF1JTQwWCUzRDgwNTEyNjAlNDBZJTNENDczOTEzNDYlNDBMJTNEODUwMjExMyU0MGElM0QxMjglNDAlMjQyMDE5MTAyNzE1MzQlMjQyMDE5MTAyNzE2MTMlMjRJUisxNisrKyUyNCUyNDElMjQlQzIlQTdUJTI0QSUzRDElNDBPJTNEQWFyYXUlNDBYJTNEODA1MTI2MCU0MFklM0Q0NzM5MTM0NiU0MEwlM0Q4NTAyMTEzJTQwYSUzRDEyOCU0MCUyNEElM0QxJTQwTyUzRFolQzMlQkNyaWNoK0hCJTQwWCUzRDg1NDAxOTMlNDBZJTNENDczNzgxNjglNDBMJTNEODUwMzAwMCU0MGElM0QxMjglNDAlMjQyMDE5MTAyNzE2MjMlMjQyMDE5MTAyNzE2NTIlMjRJUiszNysrKyUyNCUyNDElMjQlQzIlQjZLQyVDMiVCNiUyNTIzVkUlMjUyMzAlMjUyM0NGJTI1MjMxMDAlMjUyM0NBJTI1MjMwJTI1MjNDTSUyNTIzMCUyNTIzU0lDVCUyNTIzMSUyNTIzJUMyJUI2S0NDJUMyJUI2JTI1MjNWRSUyNTIzMCUyNTIzRVJHJTI1MjMyJTI1MjNISU4lMjUyMzAlMjUyM0VDSyUyNTIzNDY3NDk0JTI1N0M0Njc0OTQlMjU3QzQ2NzU3MiUyNTdDNDY3NTcyJTI1N0MwJTI1N0MwJTI1N0M2NTcwMSUyNTdDNDY3NDYwJTI1N0MxJTI1N0MtMjE0NzQ4MzYzMCUyNTdDMCUyNTIz&date=2019-10-27', 'method': 'GET', 'contentTypes': ['text/html']}]\n"
     ]
    }
   ],
   "source": [
    "for i in return_trip_list[0]:\n",
    "    print(\"key: \", i, \"val: \", return_trip_list[0][i])"
   ]
  },
  {
   "cell_type": "markdown",
   "metadata": {},
   "source": [
    "### Get Offers"
   ]
  },
  {
   "cell_type": "code",
   "execution_count": 14,
   "metadata": {
    "ExecuteTime": {
     "end_time": "2019-09-28T13:41:14.189138Z",
     "start_time": "2019-09-28T13:41:12.217996Z"
    }
   },
   "outputs": [],
   "source": [
    "offer_params = (\n",
    "    ('ipExtensionTicket', 'false'),\n",
    "    ('passengers', 'paxa;42;half-fare'),\n",
    "    ('returnTripId', return_trip_id),  \n",
    "    ('tripId', trip_id),\n",
    ")\n",
    "    \n",
    "offers = requests.get('https://b2p-int.api.sbb.ch/api/trip-offers', \n",
    "                      headers=headers, params=offer_params)"
   ]
  },
  {
   "cell_type": "code",
   "execution_count": 42,
   "metadata": {
    "ExecuteTime": {
     "end_time": "2019-09-28T14:00:28.832757Z",
     "start_time": "2019-09-28T14:00:28.820794Z"
    }
   },
   "outputs": [
    {
     "name": "stdout",
     "output_type": "stream",
     "text": [
      "1280\n",
      "2550\n"
     ]
    }
   ],
   "source": [
    "offer_list = json.loads(offers.text)\n",
    "\n",
    "for offer in offer_list:\n",
    "    if offer['offers'][0]['productId'] == 4004:\n",
    "        offer_price = offer['offers'][0]['price']\n",
    "        print(offer_price)\n",
    "        break\n",
    "        \n",
    "for offer in offer_list:\n",
    "    if offer['offers'][0]['productId'] == 125:\n",
    "        full_price = offer['offers'][0]['price']\n",
    "        print(full_price)\n",
    "        break\n",
    "    \n",
    "#     print(offer['offers'][0]['productId'])\n",
    "#     print(offer['offers'][0][ff'title'])\n",
    "#     print(offer['offers'][0]['price'])\n",
    "#     print(\"\\n\")\n",
    "\n",
    "# for i in offer_list[0]:\n",
    "#     print(\"key: \", i, \"val: \", offer_list[0][i])"
   ]
  },
  {
   "cell_type": "code",
   "execution_count": null,
   "metadata": {},
   "outputs": [],
   "source": []
  },
  {
   "cell_type": "code",
   "execution_count": 23,
   "metadata": {
    "ExecuteTime": {
     "end_time": "2019-09-28T13:42:32.868415Z",
     "start_time": "2019-09-28T13:42:32.858419Z"
    }
   },
   "outputs": [
    {
     "name": "stdout",
     "output_type": "stream",
     "text": [
      "[4004, 4004] [1280, 1280]\n"
     ]
    }
   ],
   "source": [
    "key_list = []\n",
    "value_list = []\n",
    "\n",
    "for offer in offer_list[0]['offers']:\n",
    "    key = offer['productId']\n",
    "    value = offer['price']\n",
    "    key_list.append(key)\n",
    "    value_list.append(value)\n",
    "print(key_list, value_list)"
   ]
  },
  {
   "cell_type": "code",
   "execution_count": 17,
   "metadata": {
    "ExecuteTime": {
     "end_time": "2019-09-28T13:41:14.266393Z",
     "start_time": "2019-09-28T13:41:14.256390Z"
    }
   },
   "outputs": [],
   "source": [
    "if key_list.count(4004) == len(key_list):\n",
    "    offer_price = min(value_list) * 2\n",
    "    assert offer_price == offer_list[0]['totalPrice']\n",
    "else:\n",
    "    offer_price=False"
   ]
  },
  {
   "cell_type": "code",
   "execution_count": 18,
   "metadata": {
    "ExecuteTime": {
     "end_time": "2019-09-28T13:41:14.280390Z",
     "start_time": "2019-09-28T13:41:14.271393Z"
    }
   },
   "outputs": [
    {
     "data": {
      "text/plain": [
       "2560"
      ]
     },
     "execution_count": 18,
     "metadata": {},
     "output_type": "execute_result"
    }
   ],
   "source": [
    "offer_list[0]['totalPrice']"
   ]
  },
  {
   "cell_type": "markdown",
   "metadata": {
    "ExecuteTime": {
     "end_time": "2019-09-28T07:24:16.379735Z",
     "start_time": "2019-09-28T07:24:16.375713Z"
    }
   },
   "source": [
    "### Get Prices"
   ]
  },
  {
   "cell_type": "code",
   "execution_count": 19,
   "metadata": {
    "ExecuteTime": {
     "end_time": "2019-09-28T13:41:15.584298Z",
     "start_time": "2019-09-28T13:41:14.284390Z"
    }
   },
   "outputs": [],
   "source": [
    "price_params = (\n",
    "    ('passengers', 'paxa;42;half-fare'),\n",
    "    ('qualityOfService', 2),\n",
    "    ('tripIds', [trip_id, return_trip_id]),\n",
    ")\n",
    "\n",
    "price = requests.get(\"https://b2p-int.api.sbb.ch/api/v2/prices\", headers=headers, params=price_params)"
   ]
  },
  {
   "cell_type": "code",
   "execution_count": 20,
   "metadata": {
    "ExecuteTime": {
     "end_time": "2019-09-28T13:41:15.596301Z",
     "start_time": "2019-09-28T13:41:15.590297Z"
    }
   },
   "outputs": [
    {
     "data": {
      "text/plain": [
       "'[{\"tripId\":\"JUMyJUI2SEtJJUMyJUI2VCUyNEElM0QxJTQwTyUzRFolQzMlQkNyaWNoK0hCJTQwWCUzRDg1NDAxOTMlNDBZJTNENDczNzgxNjglNDBMJTNEODUwMzAwMCU0MGElM0QxMjglNDAlMjRBJTNEMSU0ME8lM0RCZXJuJTQwWCUzRDc0MzkxMjIlNDBZJTNENDY5NDg4MTYlNDBMJTNEODUwNzAwMCU0MGElM0QxMjglNDAlMjQyMDE5MTAyNzEwMDYlMjQyMDE5MTAyNzExMjYlMjRJUisxNisrKyUyNCUyNDElMjQlQzIlQjZLQyVDMiVCNiUyNTIzVkUlMjUyMzAlMjUyM0NGJTI1MjMxMDAlMjUyM0NBJTI1MjMwJTI1MjNDTSUyNTIzMCUyNTIzU0lDVCUyNTIzMSUyNTIzJUMyJUI2S0NDJUMyJUI2JTI1MjNWRSUyNTIzMCUyNTIzRVJHJTI1MjM4MTkzJTI1MjNISU4lMjUyMzAlMjUyM0VDSyUyNTIzNDY3MTY4JTI1N0M0NjcxNjYlMjU3QzQ2NzI0NiUyNTdDNDY3MjQ2JTI1N0MwJTI1N0MwJTI1N0MxNjUlMjU3QzQ2NzE2MCUyNTdDMSUyNTdDLTIxNDc0Nzk1NTAlMjU3QzAlMjUyMw==\",\"passengerId\":\"paxa\",\"price\":1280,\"currency\":\"CHF\",\"qualityOfService\":2,\"productId\":4004,\"superSaver\":true,\"links\":[{\"rel\":\"trip-offers\",\"href\":\"https://b2p-int.api.sbb.ch/api/trip-offers?tripId=JUMyJUI2SEtJJUMyJUI2VCUyNEElM0QxJTQwTyUzRFolQzMlQkNyaWNoK0hCJTQwWCUzRDg1NDAxOTMlNDBZJTNENDczNzgxNjglNDBMJTNEODUwMzAwMCU0MGElM0QxMjglNDAlMjRBJTNEMSU0ME8lM0RCZXJuJTQwWCUzRDc0MzkxMjIlNDBZJTNENDY5NDg4MTYlNDBMJTNEODUwNzAwMCU0MGElM0QxMjglNDAlMjQyMDE5MTAyNzEwMDYlMjQyMDE5MTAyNzExMjYlMjRJUisxNisrKyUyNCUyNDElMjQlQzIlQjZLQyVDMiVCNiUyNTIzVkUlMjUyMzAlMjUyM0NGJTI1MjMxMDAlMjUyM0NBJTI1MjMwJTI1MjNDTSUyNTIzMCUyNTIzU0lDVCUyNTIzMSUyNTIzJUMyJUI2S0NDJUMyJUI2JTI1MjNWRSUyNTIzMCUyNTIzRVJHJTI1MjM4MTkzJTI1MjNISU4lMjUyMzAlMjUyM0VDSyUyNTIzNDY3MTY4JTI1N0M0NjcxNjYlMjU3QzQ2NzI0NiUyNTdDNDY3MjQ2JTI1N0MwJTI1N0MwJTI1N0MxNjUlMjU3QzQ2NzE2MCUyNTdDMSUyNTdDLTIxNDc0Nzk1NTAlMjU3QzAlMjUyMw==&passengers=${passengerInfos}\",\"method\":\"GET\",\"contentTypes\":[\"application/json\"]},{\"rel\":\"online-offers\",\"href\":\"https://www.sbb.ch/de/kaufen/pages/fahrplan/fahrplan.xhtml?recon=JUMyJUI2SEtJJUMyJUI2VCUyNEElM0QxJTQwTyUzRFolQzMlQkNyaWNoK0hCJTQwWCUzRDg1NDAxOTMlNDBZJTNENDczNzgxNjglNDBMJTNEODUwMzAwMCU0MGElM0QxMjglNDAlMjRBJTNEMSU0ME8lM0RCZXJuJTQwWCUzRDc0MzkxMjIlNDBZJTNENDY5NDg4MTYlNDBMJTNEODUwNzAwMCU0MGElM0QxMjglNDAlMjQyMDE5MTAyNzEwMDYlMjQyMDE5MTAyNzExMjYlMjRJUisxNisrKyUyNCUyNDElMjQlQzIlQjZLQyVDMiVCNiUyNTIzVkUlMjUyMzAlMjUyM0NGJTI1MjMxMDAlMjUyM0NBJTI1MjMwJTI1MjNDTSUyNTIzMCUyNTIzU0lDVCUyNTIzMSUyNTIzJUMyJUI2S0NDJUMyJUI2JTI1MjNWRSUyNTIzMCUyNTIzRVJHJTI1MjM4MTkzJTI1MjNISU4lMjUyMzAlMjUyM0VDSyUyNTIzNDY3MTY4JTI1N0M0NjcxNjYlMjU3QzQ2NzI0NiUyNTdDNDY3MjQ2JTI1N0MwJTI1N0MwJTI1N0MxNjUlMjU3QzQ2NzE2MCUyNTdDMSUyNTdDLTIxNDc0Nzk1NTAlMjU3QzAlMjUyMw==&datum=2019-10-27&zeit=1006\",\"method\":\"GET\",\"contentTypes\":[\"text/html\"]},{\"rel\":\"mobile-offers\",\"href\":\"https://app.sbbmobile.ch/tripoffer?appid=bookingAPI&recon=JUMyJUI2SEtJJUMyJUI2VCUyNEElM0QxJTQwTyUzRFolQzMlQkNyaWNoK0hCJTQwWCUzRDg1NDAxOTMlNDBZJTNENDczNzgxNjglNDBMJTNEODUwMzAwMCU0MGElM0QxMjglNDAlMjRBJTNEMSU0ME8lM0RCZXJuJTQwWCUzRDc0MzkxMjIlNDBZJTNENDY5NDg4MTYlNDBMJTNEODUwNzAwMCU0MGElM0QxMjglNDAlMjQyMDE5MTAyNzEwMDYlMjQyMDE5MTAyNzExMjYlMjRJUisxNisrKyUyNCUyNDElMjQlQzIlQjZLQyVDMiVCNiUyNTIzVkUlMjUyMzAlMjUyM0NGJTI1MjMxMDAlMjUyM0NBJTI1MjMwJTI1MjNDTSUyNTIzMCUyNTIzU0lDVCUyNTIzMSUyNTIzJUMyJUI2S0NDJUMyJUI2JTI1MjNWRSUyNTIzMCUyNTIzRVJHJTI1MjM4MTkzJTI1MjNISU4lMjUyMzAlMjUyM0VDSyUyNTIzNDY3MTY4JTI1N0M0NjcxNjYlMjU3QzQ2NzI0NiUyNTdDNDY3MjQ2JTI1N0MwJTI1N0MwJTI1N0MxNjUlMjU3QzQ2NzE2MCUyNTdDMSUyNTdDLTIxNDc0Nzk1NTAlMjU3QzAlMjUyMw==&date=2019-10-27\",\"method\":\"GET\",\"contentTypes\":[\"text/html\"]}]},{\"tripId\":\"JUMyJUI2SEtJJUMyJUI2VCUyNEElM0QxJTQwTyUzREJlcm4lNDBYJTNENzQzOTEyMiU0MFklM0Q0Njk0ODgxNiU0MEwlM0Q4NTA3MDAwJTQwYSUzRDEyOCU0MCUyNEElM0QxJTQwTyUzREFhcmF1JTQwWCUzRDgwNTEyNjAlNDBZJTNENDczOTEzNDYlNDBMJTNEODUwMjExMyU0MGElM0QxMjglNDAlMjQyMDE5MTAyNzE1MzQlMjQyMDE5MTAyNzE2MTMlMjRJUisxNisrKyUyNCUyNDElMjQlQzIlQTdUJTI0QSUzRDElNDBPJTNEQWFyYXUlNDBYJTNEODA1MTI2MCU0MFklM0Q0NzM5MTM0NiU0MEwlM0Q4NTAyMTEzJTQwYSUzRDEyOCU0MCUyNEElM0QxJTQwTyUzRFolQzMlQkNyaWNoK0hCJTQwWCUzRDg1NDAxOTMlNDBZJTNENDczNzgxNjglNDBMJTNEODUwMzAwMCU0MGElM0QxMjglNDAlMjQyMDE5MTAyNzE2MjMlMjQyMDE5MTAyNzE2NTIlMjRJUiszNysrKyUyNCUyNDElMjQlQzIlQjZLQyVDMiVCNiUyNTIzVkUlMjUyMzAlMjUyM0NGJTI1MjMxMDAlMjUyM0NBJTI1MjMwJTI1MjNDTSUyNTIzMCUyNTIzU0lDVCUyNTIzMSUyNTIzJUMyJUI2S0NDJUMyJUI2JTI1MjNWRSUyNTIzMCUyNTIzRVJHJTI1MjMyJTI1MjNISU4lMjUyMzAlMjUyM0VDSyUyNTIzNDY3NDk0JTI1N0M0Njc0OTQlMjU3QzQ2NzU3MiUyNTdDNDY3NTcyJTI1N0MwJTI1N0MwJTI1N0M2NTcwMSUyNTdDNDY3NDYwJTI1N0MxJTI1N0MtMjE0NzQ4MzYzMCUyNTdDMCUyNTIz\",\"passengerId\":\"paxa\",\"price\":1280,\"currency\":\"CHF\",\"qualityOfService\":2,\"productId\":4004,\"superSaver\":true,\"links\":[{\"rel\":\"trip-offers\",\"href\":\"https://b2p-int.api.sbb.ch/api/trip-offers?tripId=JUMyJUI2SEtJJUMyJUI2VCUyNEElM0QxJTQwTyUzREJlcm4lNDBYJTNENzQzOTEyMiU0MFklM0Q0Njk0ODgxNiU0MEwlM0Q4NTA3MDAwJTQwYSUzRDEyOCU0MCUyNEElM0QxJTQwTyUzREFhcmF1JTQwWCUzRDgwNTEyNjAlNDBZJTNENDczOTEzNDYlNDBMJTNEODUwMjExMyU0MGElM0QxMjglNDAlMjQyMDE5MTAyNzE1MzQlMjQyMDE5MTAyNzE2MTMlMjRJUisxNisrKyUyNCUyNDElMjQlQzIlQTdUJTI0QSUzRDElNDBPJTNEQWFyYXUlNDBYJTNEODA1MTI2MCU0MFklM0Q0NzM5MTM0NiU0MEwlM0Q4NTAyMTEzJTQwYSUzRDEyOCU0MCUyNEElM0QxJTQwTyUzRFolQzMlQkNyaWNoK0hCJTQwWCUzRDg1NDAxOTMlNDBZJTNENDczNzgxNjglNDBMJTNEODUwMzAwMCU0MGElM0QxMjglNDAlMjQyMDE5MTAyNzE2MjMlMjQyMDE5MTAyNzE2NTIlMjRJUiszNysrKyUyNCUyNDElMjQlQzIlQjZLQyVDMiVCNiUyNTIzVkUlMjUyMzAlMjUyM0NGJTI1MjMxMDAlMjUyM0NBJTI1MjMwJTI1MjNDTSUyNTIzMCUyNTIzU0lDVCUyNTIzMSUyNTIzJUMyJUI2S0NDJUMyJUI2JTI1MjNWRSUyNTIzMCUyNTIzRVJHJTI1MjMyJTI1MjNISU4lMjUyMzAlMjUyM0VDSyUyNTIzNDY3NDk0JTI1N0M0Njc0OTQlMjU3QzQ2NzU3MiUyNTdDNDY3NTcyJTI1N0MwJTI1N0MwJTI1N0M2NTcwMSUyNTdDNDY3NDYwJTI1N0MxJTI1N0MtMjE0NzQ4MzYzMCUyNTdDMCUyNTIz&passengers=${passengerInfos}\",\"method\":\"GET\",\"contentTypes\":[\"application/json\"]},{\"rel\":\"online-offers\",\"href\":\"https://www.sbb.ch/de/kaufen/pages/fahrplan/fahrplan.xhtml?recon=JUMyJUI2SEtJJUMyJUI2VCUyNEElM0QxJTQwTyUzREJlcm4lNDBYJTNENzQzOTEyMiU0MFklM0Q0Njk0ODgxNiU0MEwlM0Q4NTA3MDAwJTQwYSUzRDEyOCU0MCUyNEElM0QxJTQwTyUzREFhcmF1JTQwWCUzRDgwNTEyNjAlNDBZJTNENDczOTEzNDYlNDBMJTNEODUwMjExMyU0MGElM0QxMjglNDAlMjQyMDE5MTAyNzE1MzQlMjQyMDE5MTAyNzE2MTMlMjRJUisxNisrKyUyNCUyNDElMjQlQzIlQTdUJTI0QSUzRDElNDBPJTNEQWFyYXUlNDBYJTNEODA1MTI2MCU0MFklM0Q0NzM5MTM0NiU0MEwlM0Q4NTAyMTEzJTQwYSUzRDEyOCU0MCUyNEElM0QxJTQwTyUzRFolQzMlQkNyaWNoK0hCJTQwWCUzRDg1NDAxOTMlNDBZJTNENDczNzgxNjglNDBMJTNEODUwMzAwMCU0MGElM0QxMjglNDAlMjQyMDE5MTAyNzE2MjMlMjQyMDE5MTAyNzE2NTIlMjRJUiszNysrKyUyNCUyNDElMjQlQzIlQjZLQyVDMiVCNiUyNTIzVkUlMjUyMzAlMjUyM0NGJTI1MjMxMDAlMjUyM0NBJTI1MjMwJTI1MjNDTSUyNTIzMCUyNTIzU0lDVCUyNTIzMSUyNTIzJUMyJUI2S0NDJUMyJUI2JTI1MjNWRSUyNTIzMCUyNTIzRVJHJTI1MjMyJTI1MjNISU4lMjUyMzAlMjUyM0VDSyUyNTIzNDY3NDk0JTI1N0M0Njc0OTQlMjU3QzQ2NzU3MiUyNTdDNDY3NTcyJTI1N0MwJTI1N0MwJTI1N0M2NTcwMSUyNTdDNDY3NDYwJTI1N0MxJTI1N0MtMjE0NzQ4MzYzMCUyNTdDMCUyNTIz&datum=2019-10-27&zeit=1534\",\"method\":\"GET\",\"contentTypes\":[\"text/html\"]},{\"rel\":\"mobile-offers\",\"href\":\"https://app.sbbmobile.ch/tripoffer?appid=bookingAPI&recon=JUMyJUI2SEtJJUMyJUI2VCUyNEElM0QxJTQwTyUzREJlcm4lNDBYJTNENzQzOTEyMiU0MFklM0Q0Njk0ODgxNiU0MEwlM0Q4NTA3MDAwJTQwYSUzRDEyOCU0MCUyNEElM0QxJTQwTyUzREFhcmF1JTQwWCUzRDgwNTEyNjAlNDBZJTNENDczOTEzNDYlNDBMJTNEODUwMjExMyU0MGElM0QxMjglNDAlMjQyMDE5MTAyNzE1MzQlMjQyMDE5MTAyNzE2MTMlMjRJUisxNisrKyUyNCUyNDElMjQlQzIlQTdUJTI0QSUzRDElNDBPJTNEQWFyYXUlNDBYJTNEODA1MTI2MCU0MFklM0Q0NzM5MTM0NiU0MEwlM0Q4NTAyMTEzJTQwYSUzRDEyOCU0MCUyNEElM0QxJTQwTyUzRFolQzMlQkNyaWNoK0hCJTQwWCUzRDg1NDAxOTMlNDBZJTNENDczNzgxNjglNDBMJTNEODUwMzAwMCU0MGElM0QxMjglNDAlMjQyMDE5MTAyNzE2MjMlMjQyMDE5MTAyNzE2NTIlMjRJUiszNysrKyUyNCUyNDElMjQlQzIlQjZLQyVDMiVCNiUyNTIzVkUlMjUyMzAlMjUyM0NGJTI1MjMxMDAlMjUyM0NBJTI1MjMwJTI1MjNDTSUyNTIzMCUyNTIzU0lDVCUyNTIzMSUyNTIzJUMyJUI2S0NDJUMyJUI2JTI1MjNWRSUyNTIzMCUyNTIzRVJHJTI1MjMyJTI1MjNISU4lMjUyMzAlMjUyM0VDSyUyNTIzNDY3NDk0JTI1N0M0Njc0OTQlMjU3QzQ2NzU3MiUyNTdDNDY3NTcyJTI1N0MwJTI1N0MwJTI1N0M2NTcwMSUyNTdDNDY3NDYwJTI1N0MxJTI1N0MtMjE0NzQ4MzYzMCUyNTdDMCUyNTIz&date=2019-10-27\",\"method\":\"GET\",\"contentTypes\":[\"text/html\"]}]}]'"
      ]
     },
     "execution_count": 20,
     "metadata": {},
     "output_type": "execute_result"
    }
   ],
   "source": [
    "price.text"
   ]
  },
  {
   "cell_type": "code",
   "execution_count": 21,
   "metadata": {
    "ExecuteTime": {
     "end_time": "2019-09-28T13:41:15.608300Z",
     "start_time": "2019-09-28T13:41:15.599303Z"
    }
   },
   "outputs": [
    {
     "name": "stdout",
     "output_type": "stream",
     "text": [
      "https://b2p-int.api.sbb.ch/api/v2/prices?tripIds=JUMyJUI2SEtJJUMyJUI2VCUyNEElM0QxJTQwTyUzRFolQzMlQkNyaWNoK0hCJTQwWCUzRDg1NDAxOTMlNDBZJTNENDczNzgxNjglNDBMJTNEODUwMzAwMCU0MGElM0QxMjglNDAlMjRBJTNEMSU0ME8lM0RCZXJuJTQwWCUzRDc0MzkxMjIlNDBZJTNENDY5NDg4MTYlNDBMJTNEODUwNzAwMCU0MGElM0QxMjglNDAlMjQyMDE5MTAyNzEwMDYlMjQyMDE5MTAyNzExMjYlMjRJUisxNisrKyUyNCUyNDElMjQlQzIlQjZLQyVDMiVCNiUyNTIzVkUlMjUyMzAlMjUyM0NGJTI1MjMxMDAlMjUyM0NBJTI1MjMwJTI1MjNDTSUyNTIzMCUyNTIzU0lDVCUyNTIzMSUyNTIzJUMyJUI2S0NDJUMyJUI2JTI1MjNWRSUyNTIzMCUyNTIzRVJHJTI1MjM4MTkzJTI1MjNISU4lMjUyMzAlMjUyM0VDSyUyNTIzNDY3MTY4JTI1N0M0NjcxNjYlMjU3QzQ2NzI0NiUyNTdDNDY3MjQ2JTI1N0MwJTI1N0MwJTI1N0MxNjUlMjU3QzQ2NzE2MCUyNTdDMSUyNTdDLTIxNDc0Nzk1NTAlMjU3QzAlMjUyMw==&passengers=${passengerInfos}\n"
     ]
    }
   ],
   "source": [
    "price_url = dict(trip_list[0])['links'][0]['href']\n",
    "\n",
    "# Check results\n",
    "print(price_url)"
   ]
  },
  {
   "cell_type": "code",
   "execution_count": 22,
   "metadata": {
    "ExecuteTime": {
     "end_time": "2019-09-28T13:41:15.619313Z",
     "start_time": "2019-09-28T13:41:15.613296Z"
    }
   },
   "outputs": [
    {
     "name": "stdout",
     "output_type": "stream",
     "text": [
      "https://b2p-int.api.sbb.ch/apihttps://b2p-int.api.sbb.ch/api/v2/prices?tripIds=JUMyJUI2SEtJJUMyJUI2VCUyNEElM0QxJTQwTyUzRFolQzMlQkNyaWNoK0hCJTQwWCUzRDg1NDAxOTMlNDBZJTNENDczNzgxNjglNDBMJTNEODUwMzAwMCU0MGElM0QxMjglNDAlMjRBJTNEMSU0ME8lM0RCZXJuJTQwWCUzRDc0MzkxMjIlNDBZJTNENDY5NDg4MTYlNDBMJTNEODUwNzAwMCU0MGElM0QxMjglNDAlMjQyMDE5MTAyNzEwMDYlMjQyMDE5MTAyNzExMjYlMjRJUisxNisrKyUyNCUyNDElMjQlQzIlQjZLQyVDMiVCNiUyNTIzVkUlMjUyMzAlMjUyM0NGJTI1MjMxMDAlMjUyM0NBJTI1MjMwJTI1MjNDTSUyNTIzMCUyNTIzU0lDVCUyNTIzMSUyNTIzJUMyJUI2S0NDJUMyJUI2JTI1MjNWRSUyNTIzMCUyNTIzRVJHJTI1MjM4MTkzJTI1MjNISU4lMjUyMzAlMjUyM0VDSyUyNTIzNDY3MTY4JTI1N0M0NjcxNjYlMjU3QzQ2NzI0NiUyNTdDNDY3MjQ2JTI1N0MwJTI1N0MwJTI1N0MxNjUlMjU3QzQ2NzE2MCUyNTdDMSUyNTdDLTIxNDc0Nzk1NTAlMjU3QzAlMjUyMw==&passengers=${passengerInfos}\n"
     ]
    }
   ],
   "source": [
    "price_url = 'https://b2p-int.api.sbb.ch/api'+str(price_url)\n",
    "\n",
    "# Set a default value\n",
    "price_url.replace\n",
    "\n",
    "# Check results\n",
    "print(price_url)"
   ]
  }
 ],
 "metadata": {
  "hide_input": false,
  "kernelspec": {
   "display_name": "Python 3",
   "language": "python",
   "name": "python3"
  },
  "language_info": {
   "codemirror_mode": {
    "name": "ipython",
    "version": 3
   },
   "file_extension": ".py",
   "mimetype": "text/x-python",
   "name": "python",
   "nbconvert_exporter": "python",
   "pygments_lexer": "ipython3",
   "version": "3.7.4"
  },
  "toc": {
   "base_numbering": 1,
   "nav_menu": {},
   "number_sections": true,
   "sideBar": false,
   "skip_h1_title": true,
   "title_cell": "Table of Contents",
   "title_sidebar": "Contents",
   "toc_cell": true,
   "toc_position": {},
   "toc_section_display": true,
   "toc_window_display": false
  }
 },
 "nbformat": 4,
 "nbformat_minor": 2
}
